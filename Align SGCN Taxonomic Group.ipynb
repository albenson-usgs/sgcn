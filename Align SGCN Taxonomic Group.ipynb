{
 "cells": [
  {
   "cell_type": "code",
   "execution_count": 1,
   "metadata": {
    "collapsed": true
   },
   "outputs": [],
   "source": [
    "import requests,configparser\n",
    "from IPython.display import display\n"
   ]
  },
  {
   "cell_type": "code",
   "execution_count": 2,
   "metadata": {
    "collapsed": true
   },
   "outputs": [],
   "source": [
    "# Get API keys and any other config details from a file that is external to the code.\n",
    "config = configparser.RawConfigParser()\n",
    "config.read_file(open(r'../config/stuff.py'))"
   ]
  },
  {
   "cell_type": "code",
   "execution_count": 3,
   "metadata": {
    "collapsed": true
   },
   "outputs": [],
   "source": [
    "# Build base URL with API key using input from the external config.\n",
    "def getBaseURL():\n",
    "    gc2APIKey = config.get('apiKeys','apiKey_GC2_BCB').replace('\"','')\n",
    "    apiBaseURL = \"https://gc2.mapcentia.com/api/v1/sql/bcb?key=\"+gc2APIKey\n",
    "    return apiBaseURL"
   ]
  },
  {
   "cell_type": "code",
   "execution_count": 12,
   "metadata": {
    "collapsed": false
   },
   "outputs": [
    {
     "name": "stdout",
     "output_type": "stream",
     "text": [
      "Algae\n",
      "Amphibian\n",
      "Amphibians\n",
      "Arachnids\n",
      "Arthropod\n",
      "Bicolor Sand Shrimp\n",
      "Bird\n",
      "Birds\n",
      "Bivalves\n",
      "Bryophytes\n",
      "Cephalopods\n",
      "Cnidarians\n",
      "Crustaceans\n",
      "Echinoderms\n",
      "Fish\n",
      "Flatworm\n",
      "Freshwater Mussel\n",
      "Fungi\n",
      "Gastropods\n",
      "Insect\n",
      "Insects\n",
      "Invertebrate\n",
      "Invertebrates\n",
      "Mammal\n",
      "Mammals\n",
      "Mite\n",
      "Mollusks\n",
      "Mussel\n",
      "Myriapods\n",
      "Other Invertebrates\n",
      "Plant\n",
      "Plants\n",
      "Poriferans\n",
      "Reptile\n",
      "Reptiles\n",
      "Snail\n",
      "Spider\n",
      "Vascular Plants\n",
      "Worms\n"
     ]
    }
   ],
   "source": [
    "r = requests.get(getBaseURL()+\"&q=SELECT DISTINCT taxonomicgroup_submitted FROM sgcn.sgcn WHERE taxonomicgroup_submitted <> '' ORDER BY taxonomicgroup_submitted\").json()\n",
    "\n",
    "for feature in r[\"features\"]:\n",
    "    tg = feature[\"properties\"][\"taxonomicgroup_submitted\"]\n",
    "    if tg == \"Amphibian\":\n",
    "        tgMapping = '\"Amphibian\"=>\"Aphibians\"'\n",
    "    elif tg == \"Bird\"\n",
    "    \n",
    "    "
   ]
  },
  {
   "cell_type": "code",
   "execution_count": 13,
   "metadata": {
    "collapsed": false
   },
   "outputs": [
    {
     "name": "stdout",
     "output_type": "stream",
     "text": [
      "\"Amphibian\"=>\"Amphibians\"\n",
      "\"Bird\"=>\"Birds\"\n",
      "\"Insect\"=>\"Insects\"\n",
      "\"Invertebrate\"=>\"Other Invertebrates\"\n",
      "\"Invertebrates\"=>\"Other Invertebrates\"\n",
      "\"Mammal\"=>\"Mammals\"\n",
      "\"Plant\"=>\"Plants\"\n",
      "\"Reptile\"=>\"Reptiles\"\n",
      "\"Vascular Plants\"=>\"Plants\"\n",
      "\"Spider\"=>\"Arachnids\"\n",
      "\"Poriferans\" =>\"Other Invertebrates\"\n",
      "\"Myriapods\" =>\"Other Invertebrates\"\n",
      "\"Worms\" =>\"Other Invertebrates\"\n",
      "\"Echinoderms\" =>\"Other Invertebrates\"\n",
      "\"Cnidarians\" =>\"Other Invertebrates\"\n",
      "\"Bivalves\" =>\"Mollusks\"\n",
      "\"Gastropods\" =>\"Mollusks\"\n",
      "\"Cephalopods\" =>\"Mollusks\"\n",
      "\"Bryophytes\" =>\"Plants\"\n",
      "\"Flatworm\" =>\"Other Invertebrates\"\n",
      "\"Arthropod\" =>\"Other Invertebrates\"\n",
      "\"Freshwater Mussel\" =>\"Mollusks\"\n",
      "\"Snail\" =>\"Mollusks\"\n",
      "\"Mussel\" =>\"Mollusks\"\n",
      "\"Mite\" =>\"Arachnids\"\n",
      
     ]
    }
   ],
   "source": [
    "tgMappings = ['\"Amphibian\"=>\"Amphibians\"','\"Bird\"=>\"Birds\"','\"Insect\"=>\"Insects\"','\"Invertebrate\"=>\"Other Invertebrates\"','\"Invertebrates\"=>\"Other Invertebrates\"','\"Mammal\"=>\"Mammals\"','\"Plant\"=>\"Plants\"','\"Reptile\"=>\"Reptiles\"','\"Vascular Plants\"=>\"Plants\"','\"Spider\"=>\"Arachnids\"']\n",
    "for tgMapping in tgMappings:\n",
    "    print (tgMapping)\n"
   ]
  },
  {
   "cell_type": "code",
   "execution_count": null,
   "metadata": {
    "collapsed": true
   },
   "outputs": [],
   "source": []
  }
 ],
 "metadata": {
  "kernelspec": {
   "display_name": "Python 3",
   "language": "python",
   "name": "python3"
  },
  "language_info": {
   "codemirror_mode": {
    "name": "ipython",
    "version": 3
   },
   "file_extension": ".py",
   "mimetype": "text/x-python",
   "name": "python",
   "nbconvert_exporter": "python",
   "pygments_lexer": "ipython3",
   "version": "3.5.3"
  }
 },
 "nbformat": 4,
 "nbformat_minor": 0
}
